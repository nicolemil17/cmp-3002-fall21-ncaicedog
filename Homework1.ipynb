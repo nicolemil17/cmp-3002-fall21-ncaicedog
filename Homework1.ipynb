{
 "cells": [
  {
   "cell_type": "markdown",
   "id": "8d0a8bef",
   "metadata": {},
   "source": [
    "# Homework 1\n",
    "Nicole Caicedo 00213150"
   ]
  },
  {
   "cell_type": "code",
   "execution_count": 1,
   "id": "bb97d3d0",
   "metadata": {},
   "outputs": [
    {
     "name": "stderr",
     "output_type": "stream",
     "text": [
      "Matplotlib is building the font cache; this may take a moment.\n"
     ]
    }
   ],
   "source": [
    "import time\n",
    "import pandas as pd\n",
    "import numpy as np\n",
    "import matplotlib.pyplot as plt\n",
    "%matplotlib inline"
   ]
  },
  {
   "cell_type": "markdown",
   "id": "35509289",
   "metadata": {},
   "source": [
    "##  1. Sort the following functions in decreasing order of asymptotic complexity ($O(f(n))$):\n",
    "\n",
    "- $f_1(n) = n^\\sqrt{n}$\n",
    "- $f_2(n) = 2^n$\n",
    "- $f_3(n) = {n\\choose 2}$\n",
    "- $f_4(n) = \\sum_{i=2}^n (i-1)$"
   ]
  },
  {
   "cell_type": "code",
   "execution_count": null,
   "id": "1b78325c",
   "metadata": {},
   "outputs": [],
   "source": []
  },
  {
   "cell_type": "markdown",
   "id": "6079fb21",
   "metadata": {},
   "source": [
    "## 2. Implement in Python the insertion sort procedure to sort into non-increasing instead of non-decreasing order \n",
    "\n",
    "1. Use the `time` function to measure the execution time for the best and worst inputs of size between 10 and 1,000 (use steps of 10)\n",
    "2. Plot the best and worst execution times measured in (2.1) as a function of $n$\n",
    "3. Use the `random` function to generate randomly sorted inputs to calculate the execution time. For each $n$ run the program for 100 different inputs. Do for $n = 100,200, \\dots, 1000$.\n",
    "4. Plot the mean, median, and standard deviation as a function of $n$ for the values obtained in 2.3\n"
   ]
  },
  {
   "cell_type": "code",
   "execution_count": 19,
   "id": "b9153817",
   "metadata": {},
   "outputs": [],
   "source": [
    "def insertion_array(array):\n",
    "    for i in range(1,len(array)):\n",
    "        key=array[i]\n",
    "        j=i-1\n",
    "        while(j>=0)and (key>array[j]):\n",
    "            array[j+1]=array[j]\n",
    "            j-=1\n",
    "            array[j+1]=key\n"
   ]
  },
  {
   "cell_type": "code",
   "execution_count": 20,
   "id": "ffb95643",
   "metadata": {},
   "outputs": [],
   "source": [
    "def WorstArray(num):\n",
    "    array=[]\n",
    "    for i in range (1,num):\n",
    "        array.append(i)\n",
    "    return array"
   ]
  },
  {
   "cell_type": "code",
   "execution_count": 24,
   "id": "950b74ce",
   "metadata": {},
   "outputs": [],
   "source": [
    "def WorstCaseTime (num):\n",
    "    array= WorstArray(num)\n",
    "    start=time.time()\n",
    "    insertion_array(array)\n",
    "    return time.time()-start"
   ]
  },
  {
   "cell_type": "code",
   "execution_count": 25,
   "id": "cb470358",
   "metadata": {},
   "outputs": [],
   "source": [
    "f1=pd.DataFrame()\n",
    "f1['n']=range(10,1000,10)\n",
    "f1['PC']=[WorstCaseTime(x) for i in f1['n']]\n",
    "f1['PC']=1000*f1['PC']"
   ]
  },
  {
   "cell_type": "code",
   "execution_count": 26,
   "id": "cc889c0c",
   "metadata": {
    "scrolled": true
   },
   "outputs": [
    {
     "data": {
      "image/png": "[encoded data removed]",
      "text/plain": [
       "<Figure size 432x288 with 1 Axes>"
      ]
     },
     "metadata": {
      "needs_background": "light"
     },
     "output_type": "display_data"
    }
   ],
   "source": [
    "f1.plot(x='n',y='PC')\n",
    "plt.ylabel('Milisegundos')\n",
    "plt.grid()\n"
   ]
  },
  {
   "cell_type": "code",
   "execution_count": 27,
   "id": "93fc533e",
   "metadata": {},
   "outputs": [],
   "source": [
    "for x in range(10,1001,10):\n",
    "    randomArray=np.random.randint(1,1001,x)\n",
    "    start_time=time.time()\n",
    "    insertion_array(randomArray)"
   ]
  },
  {
   "cell_type": "markdown",
   "id": "a3746feb",
   "metadata": {},
   "source": [
    "## 3.  CLRS 2.1-4\n",
    "pg. 22"
   ]
  },
  {
   "cell_type": "markdown",
   "id": "75d6db37",
   "metadata": {},
   "source": [
    "A=[1,1,1], B=[1,0,1]\n"
   ]
  },
  {
   "cell_type": "markdown",
   "id": "808ea463",
   "metadata": {},
   "source": [
    "1x2^0 + 1x2^1 + 1x2^7=\n"
   ]
  },
  {
   "cell_type": "markdown",
   "id": "3a93c25a",
   "metadata": {},
   "source": [
    "1100"
   ]
  },
  {
   "cell_type": "markdown",
   "id": "fd9ddcc1",
   "metadata": {},
   "source": [
    "## 4.  CLRS 3.1-1\n",
    "pg. 52"
   ]
  },
  {
   "cell_type": "markdown",
   "id": "fd37c8d1",
   "metadata": {},
   "source": [
    "$$ 0\\leq.5(f(n)+g(n))\\leq.5(max(f(n),g(n))+max(f(n),g(n)))$$\n",
    "$$=max(f(n),g(n))\\leq max(d(n),g(n))+min(f(n),g(n))$$\n",
    "$$=(f(n)+g(n))$$"
   ]
  },
  {
   "cell_type": "markdown",
   "id": "4a070079",
   "metadata": {},
   "source": [
    "## 5. CLRS 3.1-2\n",
    "pg. 52"
   ]
  },
  {
   "cell_type": "markdown",
   "id": "e042fe13",
   "metadata": {},
   "source": [
    "$c=2^b n_0 \\geq 2a $"
   ]
  },
  {
   "cell_type": "markdown",
   "id": "487d241e",
   "metadata": {},
   "source": [
    "para toda $n \\geq n_0$ se tiene $(n+a)^b\\leq(2n)^b=cn^b$"
   ]
  },
  {
   "cell_type": "markdown",
   "id": "e3f37c6d",
   "metadata": {},
   "source": [
    "entonces $(n+a)^b=O(n^b)$"
   ]
  },
  {
   "cell_type": "markdown",
   "id": "49b4f859",
   "metadata": {},
   "source": [
    "si $n_0\\geq \\frac{-a}{1-1/2^(1/b)}$ y $c=1/2$"
   ]
  },
  {
   "cell_type": "markdown",
   "id": "fac04f9a",
   "metadata": {},
   "source": [
    "Entonces $n\\geq n_0\\geq\\frac{-a}{1-1/2^(1/b)}$ unicamente si $ n-\\frac{n}{2^1/b}\\geq -a y n+a\\geq(1/2)â/b n y (n+a)^b\\geq cn^b$"
   ]
  },
  {
   "cell_type": "markdown",
   "id": "59c120f1",
   "metadata": {},
   "source": [
    "Así $(n+a)^b=\\Omega (n)^b$ y $(n+a)^b=\\Theta (n)^b$"
   ]
  },
  {
   "cell_type": "markdown",
   "id": "7fe796ed",
   "metadata": {},
   "source": [
    "## 6. CLRS 3.1-6\n",
    "pg. 53"
   ]
  },
  {
   "cell_type": "code",
   "execution_count": null,
   "id": "f6b43ca8",
   "metadata": {},
   "outputs": [],
   "source": []
  },
  {
   "cell_type": "markdown",
   "id": "2d3a36bc",
   "metadata": {},
   "source": [
    "## 7. CLRS 3-4 (a,b,e,g)\n",
    "pg. 62"
   ]
  },
  {
   "cell_type": "markdown",
   "id": "6800d9bb",
   "metadata": {},
   "source": [
    "a)$f(n)=O(g(n)) implies g(n)= O(f(n))$"
   ]
  },
  {
   "cell_type": "markdown",
   "id": "0d5102a0",
   "metadata": {},
   "source": [
    "Falso. $n=O(n^2)$ pero n^2\\neq O(n)$"
   ]
  },
  {
   "cell_type": "markdown",
   "id": "4ca87c3a",
   "metadata": {},
   "source": [
    "b)$f(n)+g(n)=\\Theta(min(f(n),g(n)))$"
   ]
  },
  {
   "cell_type": "markdown",
   "id": "d8728829",
   "metadata": {},
   "source": [
    "Falso. $n+n^2 \\neq \\Theta (n)$"
   ]
  },
  {
   "cell_type": "markdown",
   "id": "23181a41",
   "metadata": {},
   "source": [
    "e)$f(n)= O((f(n))^2))$"
   ]
  },
  {
   "cell_type": "markdown",
   "id": "ae5a5b92",
   "metadata": {},
   "source": [
    "Falso. con $f(n)=\\frac{1}{n}$ c puede ser $\\frac{1}{n} \\leq c\\frac{1}{n^2}$ para $n\\geq n_0$. Si se escoge una K de tal manera que $kc=\\geq n_0$y $k>1$. Obtendremos $\\frac{1}{kc} \\leq \\frac{c^2}{k^2 c^2} = \\frac{1}{k^2 c}$. La cual, es una contradicción y por ende es falso"
   ]
  },
  {
   "cell_type": "markdown",
   "id": "563dccb9",
   "metadata": {},
   "source": [
    "g)$f(n)=\\Theta(f(n/2))$"
   ]
  },
  {
   "cell_type": "markdown",
   "id": "e2e3d1b2",
   "metadata": {},
   "source": [
    "Falso. $f(n)=2^2n, 2^2n \\neq O(2^n)$"
   ]
  }
 ],
 "metadata": {
  "kernelspec": {
   "display_name": "Python 3",
   "language": "python",
   "name": "python3"
  },
  "language_info": {
   "codemirror_mode": {
    "name": "ipython",
    "version": 3
   },
   "file_extension": ".py",
   "mimetype": "text/x-python",
   "name": "python",
   "nbconvert_exporter": "python",
   "pygments_lexer": "ipython3",
   "version": "3.8.8"
  }
 },
 "nbformat": 4,
 "nbformat_minor": 5
}
