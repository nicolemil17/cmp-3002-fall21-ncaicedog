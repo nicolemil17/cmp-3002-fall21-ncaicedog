{
 "cells": [
  {
   "cell_type": "markdown",
   "id": "8d0a8bef",
   "metadata": {},
   "source": [
    "# Homework 3"
   ]
  },
  {
   "cell_type": "markdown",
   "id": "35509289",
   "metadata": {},
   "source": [
    "## 1. [10 pts] Given a list of list of dimension m x n (2-D matrix) representing a map of '1's (land) and '0's (water), write a Python function that returns the number of islands and takes the matrix as input. \n",
    "\n",
    "- An island is surrounded by water and is formed by connecting adjacent lands horizontally or vertically.\\\n",
    "- Assume all four edges of the matrix are all surrounded by water.\n",
    "- Write an implementation for BFS and one for DFS\n",
    "\n",
    "\n",
    "Example:\n",
    "\n",
    "```\n",
    "Input: map = [\n",
    "  [\"1\",\"1\",\"0\",\"0\",\"0\"],\n",
    "  [\"1\",\"1\",\"0\",\"0\",\"0\"],\n",
    "  [\"0\",\"0\",\"1\",\"0\",\"0\"],\n",
    "  [\"0\",\"0\",\"0\",\"1\",\"1\"]\n",
    "]\n",
    "Output: 3\n",
    "```\n"
   ]
  },
  {
   "cell_type": "code",
   "execution_count": 12,
   "id": "d6dcd73f",
   "metadata": {},
   "outputs": [],
   "source": [
    "class Islandsbfs:\n",
    "    def numIslands(matrix):\n",
    "\n",
    "        rows = len(matrix)\n",
    "        cols = len(matrix[0])\n",
    "        visit = set()\n",
    "        islands = 0\n",
    "\n",
    "        def bfs(r, c):\n",
    "            queue = collections.deque()\n",
    "            visit.add((r, c))\n",
    "            queue.append((r, c))\n",
    "            while queue:\n",
    "                row, col = queue.popleft()\n",
    "                dir = [[1, 0], [-1, 0], [0, 1], [0, -1]]\n",
    "                for dr, dc in dir:\n",
    "                    r, c = row + dr, col + dc\n",
    "                    if (r in range(rows) and c in range(cols) and matrix[r][c] == \"1\" and (r, c) not in visit):\n",
    "                        queue.append((r, c))\n",
    "                        visit.add((r, c))\n",
    "\n",
    "        for r in range(rows):\n",
    "            for c in range(cols):\n",
    "                if matrix[r][c] == \"1\" and (r, c) not in visit:\n",
    "                    bfs(r, c)\n",
    "                    islands += 1\n",
    "        return islands"
   ]
  },
  {
   "cell_type": "code",
   "execution_count": 13,
   "id": "f3bc25de",
   "metadata": {},
   "outputs": [],
   "source": [
    "class Islandsdfs:\n",
    "    def numIslands(  matrix):\n",
    "        rows  = len(matrix)\n",
    "        cols= len(matrix[0])\n",
    "#Usar un dfs para recorrer la matriz e ir viendo los números \"1\" cercanos\n",
    "        def dfs(r, c):\n",
    "            if r < 0 or c < 0 or r == rows or c == cols:\n",
    "                return 0\n",
    "            if matrix[r][c] == 0:\n",
    "                return 0\n",
    "            matrix[r][c] = 0\n",
    "            dfs(r - 1, c)\n",
    "            dfs(r + 1, c)\n",
    "            dfs(r, c - 1)\n",
    "            dfs(r, c + 1)\n",
    "            return 1\n",
    "        num = 0\n",
    "        for r in range(rows):\n",
    "            for c in range(cols):\n",
    "                num += dfs(r, c)\n",
    "        return num\n",
    "\n",
    "      "
   ]
  },
  {
   "cell_type": "code",
   "execution_count": 16,
   "id": "4bb47bac",
   "metadata": {},
   "outputs": [
    {
     "name": "stdout",
     "output_type": "stream",
     "text": [
      "Number of islands:  3\n"
     ]
    }
   ],
   "source": [
    "i=Islandsdfs\n",
    "map = [\n",
    "    [1, 1, 0, 0, 0],\n",
    "    [1, 1, 0, 0, 0],\n",
    "    [0, 0, 0, 0, 0],\n",
    "    [0, 0, 1, 0, 0],\n",
    "    [0, 0, 0, 1, 1]\n",
    "]\n",
    "print(\"Number of islands: \", i.numIslands(map))"
   ]
  },
  {
   "cell_type": "markdown",
   "id": "c244ed40",
   "metadata": {},
   "source": [
    "## 2. [5 pts] A perfect square is an integer that is the square of an integer; in other words, it is the product of some integer with itself. For example, 1, 4, 9, and 16 are perfect squares, and 2 and 5 are not perfect squares\n",
    "\n",
    "Use BFS and write a Python function that gets a number `n` as input and return the least number of perfect square numbers that sum to `n`\n",
    "\n",
    "Example 1:\n",
    "\n",
    "```\n",
    "Input: n = 12\n",
    "Output: 3\n",
    "Explanation: 12 = 4 + 4 + 4.\n",
    "```\n",
    "\n",
    "Example 2:\n",
    "```\n",
    "Input: n = 13\n",
    "Output: 2\n",
    "Explanation: 13 = 4 + 9.\n",
    "```\n",
    "\n",
    "\n",
    "**Hint 1:**\n",
    "\n",
    "You can build a graph (n-ary tree) using the input as the root, and the children the difference between the input and the perfect squares less or equal to the input. Each of the children can become the root of a subtree built using the same idea. For example, the graph below reflects the first level of the tree for `n=17`. \n",
    "\n",
    "![](./hint1.png)\n",
    "\n",
    "\n",
    "Once the graph is defined, you can run BFS"
   ]
  },
  {
   "cell_type": "code",
   "execution_count": 18,
   "id": "94bce7f8",
   "metadata": {},
   "outputs": [],
   "source": [
    "\n",
    "import math\n",
    "\n",
    "class Squares:\n",
    "\n",
    "    def numSquares( n):\n",
    "        if (n == 0):\n",
    "            return 0\n",
    "        if (n == 1):\n",
    "            return 1\n",
    "\n",
    "        def findSquares( n):\n",
    "\n",
    "            i = 1\n",
    "            squares = []\n",
    "            while (i * i <= n):\n",
    "                squares.append(i * i)\n",
    "                i = i + 1\n",
    "            return squares\n",
    "        \n",
    "        squares = findSquares(n)\n",
    "        rows = len(squares)\n",
    "        cols = n + 1\n",
    "        mat = [n] * cols\n",
    "        mat[0] = 0\n",
    "\n",
    "        for s in squares:\n",
    "            for j in range(s, cols):\n",
    "                mat[j] = min(mat[j], 1 + mat[j - s])\n",
    "\n",
    "        return mat[n]\n",
    "\n",
    "\n"
   ]
  },
  {
   "cell_type": "code",
   "execution_count": 19,
   "id": "ef6b82bc",
   "metadata": {},
   "outputs": [
    {
     "name": "stdout",
     "output_type": "stream",
     "text": [
      "Minimos cuadrados de 12:  3\n",
      "Minimos cuadrados de 13:  2\n"
     ]
    }
   ],
   "source": [
    "s=Squares\n",
    "n1 = 12\n",
    "n2= 13\n",
    "print(\"Minimos cuadrados de 12: \",s.numSquares(n1) )\n",
    "print(\"Minimos cuadrados de 13: \",s.numSquares(n2) )\n",
    "       "
   ]
  }
 ],
 "metadata": {
  "kernelspec": {
   "display_name": "Python 3",
   "language": "python",
   "name": "python3"
  },
  "language_info": {
   "codemirror_mode": {
    "name": "ipython",
    "version": 3
   },
   "file_extension": ".py",
   "mimetype": "text/x-python",
   "name": "python",
   "nbconvert_exporter": "python",
   "pygments_lexer": "ipython3",
   "version": "3.8.8"
  }
 },
 "nbformat": 4,
 "nbformat_minor": 5
}
