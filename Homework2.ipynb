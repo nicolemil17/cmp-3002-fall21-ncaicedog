{
 "cells": [
  {
   "cell_type": "markdown",
   "id": "8d0a8bef",
   "metadata": {},
   "source": [
    "# Homework 2\n",
    "   Nicole Caicedo  00213150"
   ]
  },
  {
   "cell_type": "markdown",
   "id": "35509289",
   "metadata": {},
   "source": [
    "##  1. Given the following implementation of the class `PriorityQueue`, implement the methods:\n",
    "\n",
    "- `insert(v,k)` - add an element $v$ with priority $k$. Complexity $O(n)$\n",
    "- `deleteMin()` - remove the element with the lowest $k$ (highest priority). Complexity $O(1)$\n",
    "- `decreaseKey(v,k)` - decrease the value of $k$ (increase priority). Complexity $O(n)$\n",
    "\n",
    "**Show complexity analysis for each implementation**"
   ]
  },
  {
   "cell_type": "code",
   "execution_count": 2,
   "id": "9b1ab52e",
   "metadata": {},
   "outputs": [],
   "source": [
    "import time\n",
    "import pandas as pd\n",
    "import numpy as np\n",
    "import matplotlib.pyplot as plt\n",
    "%matplotlib inline  "
   ]
  },
  {
   "cell_type": "code",
   "execution_count": 6,
   "id": "f3bc25de",
   "metadata": {},
   "outputs": [
    {
     "name": "stdout",
     "output_type": "stream",
     "text": [
      "Despues de insertar\n",
      "D - 1\n",
      "B - 2\n",
      "C - 3\n",
      "A - 4\n",
      "Despues de borrar.\n",
      "B - 2\n",
      "C - 3\n",
      "A - 4\n"
     ]
    }
   ],
   "source": [
    "class Builder:\n",
    "    def __init__(self, data, ority):\n",
    "        self.data = data \n",
    "        self.ority = ority\n",
    "    \n",
    "class PQueue:\n",
    "    def __init__(self):\n",
    "        self.q = list()\n",
    "    \n",
    "    def insert(self, node):\n",
    "        if(self.size() == 0):\n",
    "            self.q.append(node)\n",
    "        else:\n",
    "            for i in range(0, self.size()):\n",
    "                if(node.ority >= self.q[i].ority):\n",
    "                    if(i == (self.size() - 1)):\n",
    "                        self.q.insert(i+1, node)\n",
    "                    else:\n",
    "                        continue\n",
    "                else:\n",
    "                    self.q.insert(i, node)\n",
    "\n",
    "    def show(self):\n",
    "        for i in self.q:\n",
    "            print(\"{} - {}\".format(i.data, i.ority))\n",
    "\n",
    "    def delete(self):\n",
    "        return self.q.pop(0)\n",
    "\n",
    "    def size(self):\n",
    "        return len(self.q)\n",
    "\n",
    "\n",
    "b1 = Builder(\"C\", \"3\")\n",
    "b2 = Builder(\"D\", \"1\")\n",
    "b3 = Builder(\"B\", \"2\")\n",
    "b4 = Builder(\"A\", \"4\")\n",
    "\n",
    "pq = PQueue()\n",
    "pq.insert(b1)\n",
    "pq.insert(b2)\n",
    "pq.insert(b3)\n",
    "pq.insert(b4)\n",
    "\n",
    "print(\"Despues de insertar\")\n",
    "pq.show()\n",
    "\n",
    "pq.delete()\n",
    "\n",
    "print(\"Despues de borrar.\")\n",
    "pq.show()"
   ]
  },
  {
   "cell_type": "markdown",
   "id": "6079fb21",
   "metadata": {},
   "source": [
    "## 2. You are given two non-negative integers in the form of two non-empty linked lists. The digits are stored in reverse order, and each nodes contains a single digit. Add the two numbers and return the sum as a linked list.\n",
    "\n",
    "For example:\n",
    "\n",
    "**Input:** \n",
    "- $L_1$ = 1 -> 4 -> 5\n",
    "- $L_2$ = 4 -> 3 -> 2\n",
    "\n",
    "**Output:**\n",
    "- $L_3$ = 5 -> 7 -> 7\n",
    "\n",
    "Note that, the problem is equivalent to adding: 541 + 234  =  775"
   ]
  },
  {
   "cell_type": "code",
   "execution_count": null,
   "id": "09ce0654",
   "metadata": {},
   "outputs": [],
   "source": [
    "class ListNode(object):\n",
    "    def __init__(self, x):\n",
    "        self.val = x\n",
    "        self.next = None\n",
    "\n",
    "class Solucion(object):\n",
    "    def Sumar2Numeros(self, l1, l2):\n",
    "        result = ListNode(0)\n",
    "        result_tail = result\n",
    "        carry = 0\n",
    "\n",
    "        while l1 or l2 or carry:\n",
    "            val1 = (l1.val if l1 else 0)\n",
    "            val2 = (l2.val if l2 else 0)\n",
    "            carry, out = divmod(val1 + val2 + carry, 10)\n",
    "\n",
    "            result_tail.next = ListNode(out)\n",
    "            result_tail = result_tail.next\n",
    "\n",
    "            l1 = (l1.next if l1 else None)\n",
    "            l2 = (l2.next if l2 else None)\n",
    "\n",
    "        return result.next\n"
   ]
  },
  {
   "cell_type": "markdown",
   "id": "af6d7612",
   "metadata": {},
   "source": [
    "## 3. Given a linked list, detect if the list has a cycle. If a cycle is detected, return the position of the node (with respect to the head) where the cycle starts.\n",
    "\n",
    "For example:\n",
    "\n",
    "![](./cycle.png)\n",
    "\n",
    "**Input:**\n",
    "- Jan -> Feb -> March -> Dec\n",
    "\n",
    "**Output:**\n",
    "- True\n",
    "- 2"
   ]
  },
  {
   "cell_type": "code",
   "execution_count": null,
   "id": "f06aaf7f",
   "metadata": {},
   "outputs": [],
   "source": [
    " \n",
    "class Node:\n",
    " \n",
    "    def __init__(self, data):\n",
    "        self.data = data\n",
    "        self.next = None\n",
    " \n",
    " \n",
    "class LinkedList:\n",
    " \n",
    "    def __init__(self):\n",
    "        self.head = None\n",
    " \n",
    "    def push(self, new_data):\n",
    "        new_node = Node(new_data)\n",
    "        new_node.next = self.head\n",
    "        self.head = new_node\n",
    " \n",
    "    def detectAndRemoveLoop(self): \n",
    "      if self.head is None:\n",
    "          return\n",
    "      if self.head.next is None:\n",
    "          return\n",
    "      slow_p = self.head\n",
    "      fast_p = self.head\n",
    "          \n",
    "      while(slow_p and fast_p and fast_p.next):\n",
    "          slow_p = slow_p.next\n",
    "          fast_p = fast_p.next.next\n",
    " \n",
    "          if slow_p == fast_p:\n",
    "            slow_p = self.head\n",
    "             \n",
    "            while (slow_p.next != fast_p.next):\n",
    "              slow_p = slow_p.next\n",
    "              fast_p = fast_p.next\n",
    " \n",
    "                \n",
    "            fast_p.next = None  # Remove loop\n",
    " \n",
    "    \n",
    " \n",
    "    def printList(self):\n",
    "        temp = self.head\n",
    "        while(temp):\n",
    "            print(temp.data, end = ' ')\n",
    "            temp = temp.next\n"
   ]
  },
  {
   "cell_type": "markdown",
   "id": "a3746feb",
   "metadata": {},
   "source": [
    "## 4.  CLRS 10.1-5\n",
    "pg. 236\n",
    "\n",
    "**Implement as a Python class**"
   ]
  },
  {
   "cell_type": "code",
   "execution_count": null,
   "id": "e568b90f",
   "metadata": {},
   "outputs": [],
   "source": [
    "if (Q.tail == Q.head):\n",
    "   print(\"error “underflow”\") \n",
    "x = Q[Q.head]\n",
    "if (Q.head == Q.length):\n",
    "    Q.head = 1\n",
    "else:\n",
    "    Q.head = Q.head + 1\n",
    "\n",
    "return x"
   ]
  },
  {
   "cell_type": "code",
   "execution_count": null,
   "id": "3fece352",
   "metadata": {},
   "outputs": [],
   "source": [
    "Q[Q.head] = x\n",
    "if (Q.head == 1):\n",
    "    Q.head = Q.length\n",
    "else:\n",
    "    Q.head = Q.head - 1\n"
   ]
  },
  {
   "cell_type": "code",
   "execution_count": null,
   "id": "2423091e",
   "metadata": {},
   "outputs": [],
   "source": [
    "Q[Q.tail] = x\n",
    "if (Q.tail == Q.length):\n",
    "    Q.tail = 1\n",
    "else:\n",
    "    Q.tail = Q.tail + 1\n"
   ]
  },
  {
   "cell_type": "code",
   "execution_count": null,
   "id": "43216121",
   "metadata": {},
   "outputs": [],
   "source": [
    "x = Q[Q.head]\n",
    "if (Q.head == Q.length):\n",
    "    Q.head = 1\n",
    "else:\n",
    "    Q.head = Q.head + 1\n"
   ]
  },
  {
   "cell_type": "code",
   "execution_count": null,
   "id": "aead0469",
   "metadata": {},
   "outputs": [],
   "source": [
    "x = Q[Q.tail]\n",
    "if (Q.tail == 1):\n",
    "    Q.tail = Q.length\n",
    "else:\n",
    "    Q.tail = Q.tail - 1\n"
   ]
  },
  {
   "cell_type": "markdown",
   "id": "bc4e5d7f",
   "metadata": {},
   "source": [
    "## 5.  CLRS 10.1-6\n",
    "pg. 236\n",
    "\n",
    "**Implement as a Python class**"
   ]
  },
  {
   "cell_type": "markdown",
   "id": "996332a4",
   "metadata": {},
   "source": [
    "La operación de push un elemento en un stack es el mismo que el de un enqueue , esto es un O(1). Para dequeue , se hace pop a un elemento del stack 2. Si el stack 2 esta vacío, para cada elemento del stack 1, se saca con pop y se hace un pushh al stack 2. Finalmente, hacemos un pop al elemento mas alto del stack 2. Esto es una operación O(n) en el peor caso. "
   ]
  },
  {
   "cell_type": "code",
   "execution_count": 26,
   "id": "771881bc",
   "metadata": {},
   "outputs": [],
   "source": [
    "class Queue2Stacks(object):\n",
    "    def __init__(self):\n",
    "        self.stack1=[]\n",
    "        self.stack2=[]\n",
    "    def Add(self,item):\n",
    "        self.stack1.append(item)\n",
    "    def Remove (self):\n",
    "        for i in range(len(self.stack1)):\n",
    "            self.stack2.append(self.stack1.pop())\n",
    "        return self.stack2.pop()"
   ]
  },
  {
   "cell_type": "code",
   "execution_count": 27,
   "id": "1e12dcd6",
   "metadata": {},
   "outputs": [],
   "source": [
    "r= Queue2Stacks()"
   ]
  },
  {
   "cell_type": "code",
   "execution_count": 28,
   "id": "e77e8aad",
   "metadata": {},
   "outputs": [],
   "source": [
    "r.Add(90)"
   ]
  },
  {
   "cell_type": "code",
   "execution_count": null,
   "id": "69fd7c10",
   "metadata": {},
   "outputs": [],
   "source": [
    "r.Add(88)"
   ]
  },
  {
   "cell_type": "code",
   "execution_count": null,
   "id": "b3cdc70d",
   "metadata": {},
   "outputs": [],
   "source": [
    "r.Add(89)"
   ]
  },
  {
   "cell_type": "code",
   "execution_count": 29,
   "id": "0d1f23ce",
   "metadata": {},
   "outputs": [
    {
     "data": {
      "text/plain": [
       "90"
      ]
     },
     "execution_count": 29,
     "metadata": {},
     "output_type": "execute_result"
    }
   ],
   "source": [
    "r.Remove()"
   ]
  },
  {
   "cell_type": "markdown",
   "id": "f09585d1",
   "metadata": {},
   "source": [
    "## 6.  CLRS 10.1-7\n",
    "pg. 236\n",
    "\n",
    "**Implement as a Python class**"
   ]
  },
  {
   "cell_type": "markdown",
   "id": "ec425e58",
   "metadata": {},
   "source": [
    "La forma en la que se implementa un stack usando queues es donde el pop toma un tiempo linear y el push un tiempo constante. \n"
   ]
  },
  {
   "cell_type": "code",
   "execution_count": null,
   "id": "1420d0d6",
   "metadata": {},
   "outputs": [],
   "source": [
    "from queue import Queue\n",
    "  \n",
    "class Stack(object):\n",
    "    def __init__(self): \n",
    "        self.q1 = Queue()\n",
    "        self.q2 = Queue() \n",
    "              \n",
    "        self.curr_size = 0\n",
    "  \n",
    "    def push(self, x):\n",
    "        self.curr_size += 1 \n",
    "        self.q2.put(x) \n",
    "        while (not self.q1.empty()):\n",
    "            self.q2.put(self.q1.queue[0]) \n",
    "            self.q1.get()\n",
    "        self.q = self.q1 \n",
    "        self.q1 = self.q2 \n",
    "        self.q2 = self.q\n",
    "  \n",
    "    def pop(self):\n",
    "        if (self.q1.empty()): \n",
    "            return\n",
    "        self.q1.get() \n",
    "        self.curr_size -= 1\n",
    "  \n",
    "    def top(self):\n",
    "        if (self.q1.empty()):\n",
    "            return -1\n",
    "        return self.q1.queue[0]\n",
    "  \n",
    "    def size(self):\n",
    "        return self.curr_size\n",
    "  "
   ]
  },
  {
   "cell_type": "code",
   "execution_count": null,
   "id": "cd0d2b59",
   "metadata": {},
   "outputs": [],
   "source": [
    "   s = Stack()\n",
    "    s.push(1) \n",
    "    s.push(2) \n",
    "    s.push(3) \n",
    "  \n",
    "    print(\"Tamanio actual: \", s.size())\n",
    "    print(s.top()) \n",
    "    s.pop() \n",
    "    print(s.top()) \n",
    "    s.pop() \n",
    "    print(s.top()) \n",
    "  \n",
    "    print(\"Tamanio actual: \", s.size())\n",
    "    "
   ]
  },
  {
   "cell_type": "code",
   "execution_count": null,
   "id": "e58b05da",
   "metadata": {},
   "outputs": [],
   "source": []
  }
 ],
 "metadata": {
  "kernelspec": {
   "display_name": "Python 3",
   "language": "python",
   "name": "python3"
  },
  "language_info": {
   "codemirror_mode": {
    "name": "ipython",
    "version": 3
   },
   "file_extension": ".py",
   "mimetype": "text/x-python",
   "name": "python",
   "nbconvert_exporter": "python",
   "pygments_lexer": "ipython3",
   "version": "3.8.8"
  }
 },
 "nbformat": 4,
 "nbformat_minor": 5
}
