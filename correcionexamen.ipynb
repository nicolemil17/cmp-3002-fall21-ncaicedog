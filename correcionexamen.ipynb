{
 "cells": [
  {
   "cell_type": "markdown",
   "id": "c71b96c9",
   "metadata": {},
   "source": [
    "# Corrección Midterm Estructura de Datos\n",
    "Nicole Caicedo       00213150"
   ]
  },
  {
   "cell_type": "markdown",
   "id": "a43024b9",
   "metadata": {},
   "source": [
    "1) Una función recursiva resuelve un problema resolviendo una parte mas pequeña del mismo problema "
   ]
  },
  {
   "cell_type": "markdown",
   "id": "066b3eaa",
   "metadata": {},
   "source": [
    "Verdadero. Lo que hace la recursividad es ir resolviendo desde el problema mas pequenio, es decir va resolviendo subproblemas hasta llegar al caso base , el problema más \"grande \" a resolver. Por eso se llama a sí misma hasta que satisface la condición que le estemos poniendo."
   ]
  },
  {
   "cell_type": "markdown",
   "id": "fe68c44c",
   "metadata": {},
   "source": [
    "2) Los modelos computacionales nos ayudan a analizar la complejidad de los algoritmos, ya que nos proveen de las especificaciones de la computadora en la cual estos se ejecutarían idealmente"
   ]
  },
  {
   "cell_type": "markdown",
   "id": "6f36e13f",
   "metadata": {},
   "source": [
    "Verdadero, ya que los modelos computacionales se piensan como estilos de programación, se usa operaciones específicas para un algoritmo en especial, y ante todo los modelos computacionales estan diseniados para ser calculados en base a como funciona el procesador y RAM entonces un computador podría tener un algoritmo que se ejecute de mejor manera en el."
   ]
  },
  {
   "cell_type": "markdown",
   "id": "2def456c",
   "metadata": {},
   "source": [
    "3) La búsqueda en un árbol binario de búsqueda es siempre mas rápida que la búsqueda lineal en un arreglo"
   ]
  },
  {
   "cell_type": "markdown",
   "id": "b1583894",
   "metadata": {},
   "source": [
    "Falso. Esto no siempre será así ya que depende de cómo estén ordenados nuestros elementos . La búsqueda binaria es mucho más eficiente siempre y cuando esté ordenado.\n",
    "La complejidad es  de O(logn) para árbol binario y de O(n) en búsqueda lineal. Sin embargo hay casos en la búsqueda lineal que el mejor caso son de O(1) y este es más rápido que O(logn)."
   ]
  },
  {
   "cell_type": "markdown",
   "id": "b457b476",
   "metadata": {},
   "source": [
    "4) Un algoritmo de complejidad Ω(nlog(n)) es mas rápido que un algoritmo de complejidad Ω(n)"
   ]
  },
  {
   "cell_type": "markdown",
   "id": "3550ed25",
   "metadata": {},
   "source": [
    "Falso, el algoritmo de complejidad Ω(n) es más rapido, ya que el recorrido Ω(nlog(n)), ya que para nlog(n), el n es el mejor de los casos, de modo que no puede ser más rápido que este último."
   ]
  },
  {
   "cell_type": "markdown",
   "id": "b5423ac3",
   "metadata": {},
   "source": [
    "5) Un algoritmo de complejidad O(nlog(n)) es mas rápido que un algoritmo de complejidad O(n)"
   ]
  },
  {
   "cell_type": "markdown",
   "id": "ffeea7c9",
   "metadata": {},
   "source": [
    "Falso, la complejidad O(n) es más rápida que O(nlog(n)), el crecimiento de la funcion nlogn es mucho más grande al crecimiento de n, de modo que es más rapido n"
   ]
  },
  {
   "cell_type": "markdown",
   "id": "b420ce80",
   "metadata": {},
   "source": [
    "6) Cuando introducimos el concepto de pilas (stacks), usamos como ejemplos una pila de platos. Siguiendo con el ejemplo, una pila de platos con muchos platos se puede caer. Para evitar esto, se puede empezar una nueva pila.\n",
    "\n",
    "Implemente una clase de Python que defina un arreglo de stacks. La idea de tener este arreglo es que cuando un stack alcance su capacidad máxima, un nuevo stack empieza en el mismo arreglo. Las operación pop() debe retornar el mismo valor que lo haría si estuviéramos usando un stack simple. \n",
    "\n",
    "Nota: Debe definir los elementos de la clase: el arreglo de stacks, la capacidad del arreglo (# de stacks en el arreglo), la capacidad de cada stack (# de elementos que puede tener el stack). \n",
    "\n",
    "Hint: Cuando ingrese elementos (push), los elementos van al stack que este activo (el stack que recibe y retira elementos). Debe manejar las condiciones para cambiar el stack activo (cuando un push() deja al stack sin elementos, o cuando un pop() llena el stack)."
   ]
  },
  {
   "cell_type": "code",
   "execution_count": 1,
   "id": "f46a88f7",
   "metadata": {},
   "outputs": [],
   "source": [
    "import ctypes\n",
    "#clase Stack implemetada en clase\n",
    "class Stack(object):\n",
    "    def _init_(self, n):\n",
    "        self.item_count = 0\n",
    "        self.n = n\n",
    "        self.stack = self._create_stack(self.n)\n",
    "    def _create_stack(self, n):\n",
    "        return (n * ctypes.py_object)()\n",
    "    def push(self, item):\n",
    "        if self.item_count == self.n:\n",
    "            raise ValueError(\"no more capacity\")\n",
    "        self.stack[self.item_count] = item\n",
    "        self.item_count += 1\n",
    "    def pop(self):\n",
    "        c = self.stack[self.item_count - 1]\n",
    "        self.stack[self.item_count-1] = ctypes.py_object\n",
    "        self.item_count -= 1\n",
    "        return c\n",
    "    def top(self):\n",
    "        return self.stack[self.item_count - 1]\n",
    "    def full(self):\n",
    "        if self.item_count == self.n:\n",
    "            return True\n",
    "        return False\n",
    "    def empty(self):\n",
    "        if self.item_count == 0:\n",
    "            return True\n",
    "        return False\n",
    "    def size(self):\n",
    "        return self.item_count\n",
    "\n",
    "#clase para el arreglo de stacks\n",
    "class StacksArray(object):\n",
    "    def _init_(self, n):\n",
    "        self.item_counter: int = 0\n",
    "        self.num: int = n\n",
    "        self.stacks_in = self.create_stacksarray(self.n)\n",
    "        self.active_index: int = 0\n",
    "\n",
    "    def create_stacksarray(self, n):\n",
    "        return [Stack(n)] * n\n",
    "#SA=Stacks array\n",
    "    def push_SA(self, item):\n",
    "        for i in self.n:\n",
    "            if self.stacks_in[-1].item_counter == self.n:\n",
    "                raise ValueError(\"sin capacidad\")\n",
    "            if (self.stacks_in[i].item_count != self.stacks_in[i].n):\n",
    "                self.stacks_in[i].push(item)\n",
    "            if (self.stacks_in[i].item_count == 0):\n",
    "                self.stacks_in += 1\n",
    "                break\n",
    "            else:\n",
    "                self.stacks_in[i + 1].push(item)\n",
    "                self.stacks_in[i + 1].item_count += 1\n",
    "                self.item_counter += 1\n",
    "\n",
    "\n",
    "    def pop_SA(self):\n",
    "        x = self.stacks_in[self.item_counter - 1].pop()\n",
    "        if self.stacks_in[self.item_counter - 1].item_count == 0:\n",
    "            self.item_counter -= 1\n",
    "        return x\n",
    "\n",
    "            "
   ]
  },
  {
   "cell_type": "markdown",
   "id": "b187ed83",
   "metadata": {},
   "source": [
    "7) Dada una cola con prioridad (PriorityQueue) que contiene elementos (k,v) donde k define la prioridad y v define el valor. Recuerde que los valores con menor k tienen mayor prioridad, es decir si tenemos dos elementos (k1, v1) y (k2, v2), v2 tiene preferencia para salir de la cola antes que v1 si k2< k1. Definimos algunas de las operaciones como siguen:\n"
   ]
  },
  {
   "cell_type": "markdown",
   "id": "74434129",
   "metadata": {},
   "source": [
    "import ctypes\n",
    "\n",
    "class PriorityQueue(object):\n",
    "\n",
    "\"\"\"\n",
    "\n",
    "Implementation of the queue data structure\n",
    "\n",
    "\"\"\"\n",
    "\n",
    "def __init__(self, n):\n",
    "\n",
    "self.item_count = 0\n",
    "\n",
    "self.n = n\n",
    "\n",
    "self.queue = self._create_queue(self.n)\n",
    "\n",
    "def _create_queue(self, n):\n",
    "\n",
    "\"\"\"\n",
    "\n",
    "Creates a new stack of capacity n\n",
    "\n",
    "\"\"\"\n",
    "\n",
    "return (n * ctypes.py_object)()\n",
    "\n",
    "def dequeue(self):\n",
    "\n",
    "\"\"\"\n",
    "\n",
    "Remove an element from the queue\n",
    "\n",
    "\"\"\"\n",
    "\n",
    "c = self.queue[0]\n",
    "\n",
    "for i in range(1,self.item_count):\n",
    "\n",
    "self.queue[i-1] = self.queue[i]\n",
    "\n",
    "self.queue[self.item_count - 1] = ctypes.py_object\n",
    "\n",
    "self.item_count -= 1\n",
    "\n",
    "return c"
   ]
  },
  {
   "cell_type": "markdown",
   "id": "8660bd36",
   "metadata": {},
   "source": [
    "Implemente los métodos enqueue y decreaseKey, tal que ambos métodos tengan complejidad O(log(n)), sin utilizar funciones nativas de Python. Por ejemplo, si necesita hacer una búsqueda, no use la función de Python que implementa esto, programe la función usando for o while loops"
   ]
  },
  {
   "cell_type": "code",
   "execution_count": null,
   "id": "84dacc81",
   "metadata": {},
   "outputs": [],
   "source": [
    "import ctypes\n",
    "#binary insertion sort nos ayuda a disminuir las veces que se compara en un binary search normal\n",
    "def insertion_sort(arr):\n",
    "   for i in range(1, len(arr)):\n",
    "      temp = arr[i]\n",
    "      pos = binary_search(arr, temp, 0, i) + 1\n",
    "      for k in range(i, pos, -1):\n",
    "         arr[k] = arr[k - 1]\n",
    "      arr[pos] = temp\n",
    "def binary_search(arr, key, start, end):\n",
    "   #key\n",
    "   if end - start <= 1:\n",
    "      if key < arr[start]:\n",
    "         return start - 1\n",
    "      else:\n",
    "         return start\n",
    "   mid = (start + end)//2\n",
    "   if arr[mid] < key:\n",
    "      return binary_search(arr, key, mid, end)\n",
    "   elif arr[mid] > key:\n",
    "      return binary_search(arr, key, start, mid)\n",
    "   else:\n",
    "      return mid\n",
    "#Tambien con el uso de decrease key hacemos que la Priority queue tenga O(lon(n)), pero esto es usando heap\n",
    "        "
   ]
  },
  {
   "cell_type": "markdown",
   "id": "9cc04c2f",
   "metadata": {},
   "source": [
    "8) Dada una lista enlazada que represente un número. Por ejemplo, 123 es representado por la lista 1->2->3 si la lista es simple o con doble enlace si es doble. Escriba un programa que haga lo siguiente:\n",
    "\n",
    "1. Reciba dos números A y B como input\n",
    "\n",
    "2. Transforme estos números a listas enlazadas como la definida arriba\n",
    "\n",
    "3. Implemente la resta de los números descritos por esas listas enlazadas. El resultado (A-B) debe ser almacenado en una lista enlazada.\n",
    "\n",
    "4. Imprima el resultado concatenando el valor de los nodos de la lista enlazada resultante\n",
    "\n",
    "Nota: asuma que el número A es mayor que B"
   ]
  },
  {
   "cell_type": "code",
   "execution_count": null,
   "id": "41086084",
   "metadata": {},
   "outputs": [],
   "source": [
    "class Nodo:\n",
    "----\n",
    "\n",
    "def nuevoNodo(data):\n",
    "   --------\n",
    "\n",
    "def getLength(Nodo):\n",
    "   --------\n",
    "\n",
    "#variable para prestar cuando se resta un numero mas grande que otro.\n",
    "borrow = True\n",
    "\n",
    "def ayudaLinkedListresta(l1, l2):\n",
    "   global borrow\n",
    "\n",
    "   if (l1 == None and l2 == None and not borrow):\n",
    "       return None\n",
    "\n",
    "   l3 = None\n",
    "   l4 = None\n",
    "   if (l1 != None):\n",
    "       l3 = l1.next\n",
    "   if (l2 != None):\n",
    "       l4 = l2.next\n",
    "   previous = ayudaLinkedListresta(l3, l4)\n",
    "\n",
    "   d1 = l1.data\n",
    "   d2 = l2.data\n",
    "   sub = 0\n",
    "   if (borrow):\n",
    "       d1 = d1 - 1\n",
    "       borrow = False\n",
    "   if (d1 < d2):\n",
    "       borrow = True\n",
    "       d1 = d1 + 10\n",
    "\n",
    "   sub = d1 - d2\n",
    "   current = newNode(sub)\n",
    "   current.next = previous\n",
    "   return current\n",
    "\n",
    "\n",
    "def restaLinkedList(l1, l2):\n",
    "\n",
    "   if (l1 == None and l2 == None):\n",
    "       return None\n",
    "   len1 = getLength(l1)\n",
    "   len2 = getLength(l2)\n",
    "\n",
    "   lNode = None\n",
    "   sNode = None\n",
    "\n",
    "   temp1 = l1\n",
    "   temp2 = l2\n",
    "\n",
    "   if (len1 != len2):\n",
    "       if (len1 > len2):\n",
    "           lNode = l1\n",
    "       else:\n",
    "           lNode = l2\n",
    "\n",
    "       if (len1 > len2):\n",
    "           sNode = l2\n",
    "\n",
    "   else:\n",
    "\n",
    "       while (l1 != None and l2 != None):\n",
    "\n",
    "           if (l1.data != l2.data):\n",
    "               if (l1.data > l2.data):\n",
    "                   lNode = temp1\n",
    "               else:\n",
    "                   lNode = temp2\n",
    "\n",
    "               if (l1.data > l2.data):\n",
    "                   sNode = temp2\n",
    "               else:\n",
    "                   sNode = temp1\n",
    "               break\n",
    "\n",
    "           l1 = l1.next\n",
    "           l2 = l2.next\n",
    "\n",
    "   global borrow\n",
    "   borrow = False\n",
    "   return ayudatLinkedListresta(lNode, sNode)\n",
    "def printList(Node):\n",
    "   while (Node != None):\n",
    "       print(Node.data, end=\" \")\n",
    "       Node = Node.next\n",
    "\n",
    "   print(\" \")"
   ]
  },
  {
   "cell_type": "markdown",
   "id": "3f4606df",
   "metadata": {},
   "source": [
    "9) Tenemos un árbol binario (binary tree), definimos a un nodo X como rojo, si todos los nodos en el recorrido de la raiz al nodo X tienen un valor que es menor o igual a X. Por ejemplo, en el ejemplo de abajo:\n",
    "\n",
    "                              \n",
    "\n",
    "El recorrido hacia el nodo 3 de la izquierda es 3 → 1 → 3, como todos los valores en este recorrido son menores o iguales a 3 (3=3 y 1<3), el nodo es rojo. Similarmente, en el sub-árbol de la derecha, los nodos 4 y 5 también son rojos. Escriba una función en Python que cuente el numero total de nodos rojos. El input de esta función es la raíz del árbol binario."
   ]
  },
  {
   "cell_type": "code",
   "execution_count": 5,
   "id": "7ff17884",
   "metadata": {},
   "outputs": [
    {
     "ename": "SyntaxError",
     "evalue": "invalid syntax (<ipython-input-5-24a9c9b31291>, line 3)",
     "output_type": "error",
     "traceback": [
      "\u001b[1;36m  File \u001b[1;32m\"<ipython-input-5-24a9c9b31291>\"\u001b[1;36m, line \u001b[1;32m3\u001b[0m\n\u001b[1;33m    def__init__(self,val=0,left=None, right=None):\u001b[0m\n\u001b[1;37m                                                  ^\u001b[0m\n\u001b[1;31mSyntaxError\u001b[0m\u001b[1;31m:\u001b[0m invalid syntax\n"
     ]
    }
   ],
   "source": [
    "import math\n",
    "\n",
    "class nodoArbol:\n",
    "    def__init__(self,val=0,left=None, right=None):\n",
    "        self.val= val\n",
    "        self.left=left\n",
    "        self.right=right\n",
    "        \n",
    "def nodos_rojos (root,root 1= Node (-math.inf)):\n",
    "    global answer\n",
    "    gobal root_0\n",
    "    if not root:\n",
    "        return\n",
    "    if root.val>=root_1.val and root.val>= root_0:\n",
    "        answer += 1\n",
    "    root_0= max(root.val,root_1.val)\n",
    "    nodos_rojos(root.left,root)\n",
    "    nodos_rojos(root.right, root)\n",
    "    \n",
    "##############Prueba con el orden de la imagen que puso en el midterm\n",
    "    \n",
    "nodo3=nodoArbol(3)\n",
    "nodo4=nodoArbol(1)\n",
    "nodo2=nodoArbol(1,left=nodo3,right=nodo4)\n",
    "nodo8=nodoArbol(1)\n",
    "nodo9=nodoArbol(5)\n",
    "nodo7=nodoArbol(4,left=nodo8,right=nodo9)\n",
    "\n",
    "nodo6=nodoArbol('nodo6')\n",
    "nodo6=nodoArbol('nodo6',left=nodo6,right=nodo7)\n",
    "\n",
    "nodo1=nodoArbol(3,left=nodo2,right=nodo7)\n",
    "\n",
    "answer=0\n",
    "root_0=a.val\n",
    "nodos_rojos(nodo1)\n",
    "print(answer)\n"
   ]
  }
 ],
 "metadata": {
  "kernelspec": {
   "display_name": "Python 3",
   "language": "python",
   "name": "python3"
  },
  "language_info": {
   "codemirror_mode": {
    "name": "ipython",
    "version": 3
   },
   "file_extension": ".py",
   "mimetype": "text/x-python",
   "name": "python",
   "nbconvert_exporter": "python",
   "pygments_lexer": "ipython3",
   "version": "3.8.8"
  }
 },
 "nbformat": 4,
 "nbformat_minor": 5
}
